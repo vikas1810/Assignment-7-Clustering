{
  "nbformat": 4,
  "nbformat_minor": 0,
  "metadata": {
    "colab": {
      "name": "crime _data",
      "private_outputs": true,
      "provenance": []
    },
    "kernelspec": {
      "name": "python3",
      "display_name": "Python 3"
    },
    "language_info": {
      "name": "python"
    }
  },
  "cells": [
    {
      "cell_type": "code",
      "execution_count": null,
      "metadata": {
        "id": "due4VdZWXe2W"
      },
      "outputs": [],
      "source": [
        "# Importing Relevant Library"
      ]
    },
    {
      "cell_type": "code",
      "source": [
        "import numpy as np\n",
        "import pandas as pd\n",
        "import statsmodels.api as sm\n",
        "import matplotlib.pyplot as plt\n",
        "import matplotlib\n",
        "import seaborn as sns\n",
        "sns.set()\n",
        "from sklearn.cluster import KMeans\n",
        "import scipy.cluster.hierarchy as shc"
      ],
      "metadata": {
        "id": "RXeNmWiOXjD0"
      },
      "execution_count": null,
      "outputs": []
    },
    {
      "cell_type": "code",
      "source": [
        "# Loading the data"
      ],
      "metadata": {
        "id": "NMLeVprDXjnI"
      },
      "execution_count": null,
      "outputs": []
    },
    {
      "cell_type": "code",
      "source": [
        "data = pd.read_csv(\"/crime_data.csv\")\n",
        "data"
      ],
      "metadata": {
        "id": "dFJL5ALuXmPc"
      },
      "execution_count": null,
      "outputs": []
    },
    {
      "cell_type": "code",
      "source": [
        "data.info()"
      ],
      "metadata": {
        "id": "E-bPQt_4X2fB"
      },
      "execution_count": null,
      "outputs": []
    },
    {
      "cell_type": "code",
      "source": [
        "data2=data.drop(['Unnamed: 0'],axis=1)\n",
        "data2"
      ],
      "metadata": {
        "id": "LNM17DdLX243"
      },
      "execution_count": null,
      "outputs": []
    },
    {
      "cell_type": "code",
      "source": [
        "# Selecting the feature"
      ],
      "metadata": {
        "id": "xmUXtT5_YFSx"
      },
      "execution_count": null,
      "outputs": []
    },
    {
      "cell_type": "code",
      "source": [
        "from sklearn.preprocessing import normalize\n",
        "data_scaled = normalize(data2)\n",
        "data_scaled = pd.DataFrame(data_scaled, columns=data2.columns)\n",
        "data_scaled.head()"
      ],
      "metadata": {
        "id": "fst-Ea7UYFp1"
      },
      "execution_count": null,
      "outputs": []
    },
    {
      "cell_type": "code",
      "source": [
        "# To find No of Cluster use WCSS and Elbow Method"
      ],
      "metadata": {
        "id": "CaYSoXO4YHo8"
      },
      "execution_count": null,
      "outputs": []
    },
    {
      "cell_type": "code",
      "source": [
        "wcss=[]\n",
        "for i in range(1,7):\n",
        "  kmeans = KMeans(i)\n",
        "  kmeans.fit(data_scaled)\n",
        "  wcss_iter = kmeans.inertia_\n",
        "  wcss.append(wcss_iter)\n",
        "\n",
        "number_clusters = range(1,7)\n",
        "plt.plot(number_clusters,wcss)\n",
        "plt.title('The Elbow title')\n",
        "plt.xlabel('Number of clusters')\n",
        "plt.ylabel('WCSS')  "
      ],
      "metadata": {
        "id": "33nfK8TuYKSf"
      },
      "execution_count": null,
      "outputs": []
    },
    {
      "cell_type": "code",
      "source": [
        "# we can choose 3 as no. of clusters, this method shows what is the good number of clusters."
      ],
      "metadata": {
        "id": "Oka1i4lVYMXH"
      },
      "execution_count": null,
      "outputs": []
    },
    {
      "cell_type": "code",
      "source": [
        "# Let See Dendogram to find the no of cluster"
      ],
      "metadata": {
        "id": "4jZAnDAcYU_U"
      },
      "execution_count": null,
      "outputs": []
    },
    {
      "cell_type": "code",
      "source": [
        "import scipy.cluster.hierarchy as shc\n",
        "plt.figure(figsize=(10, 7))  \n",
        "plt.title(\"Dendrograms\")  \n",
        "dend = shc.dendrogram(shc.linkage(data_scaled, method='ward'))"
      ],
      "metadata": {
        "id": "naygN2NwYQpl"
      },
      "execution_count": null,
      "outputs": []
    },
    {
      "cell_type": "code",
      "source": [
        "# Here also with the help of dendogram we see 3 cluster "
      ],
      "metadata": {
        "id": "3BnYCaEdYZay"
      },
      "execution_count": null,
      "outputs": []
    },
    {
      "cell_type": "code",
      "source": [
        "# 1.K-Means"
      ],
      "metadata": {
        "id": "3Y38u49xYhCA"
      },
      "execution_count": null,
      "outputs": []
    },
    {
      "cell_type": "code",
      "source": [
        "from sklearn.cluster import KMeans\n",
        "k_means=KMeans(n_clusters=4,random_state=42)\n",
        "k_means.fit(data_scaled)"
      ],
      "metadata": {
        "id": "nN1F6GK5YhsO"
      },
      "execution_count": null,
      "outputs": []
    },
    {
      "cell_type": "code",
      "source": [
        "identified_clusters = kmeans.fit_predict(data_scaled)\n",
        "identified_clusters"
      ],
      "metadata": {
        "id": "KjiYZsZTYj5W"
      },
      "execution_count": null,
      "outputs": []
    },
    {
      "cell_type": "code",
      "source": [
        "y = pd.DataFrame(data=identified_clusters, columns=['clusters'])\n",
        "y"
      ],
      "metadata": {
        "id": "x0OXkANwYmxS"
      },
      "execution_count": null,
      "outputs": []
    },
    {
      "cell_type": "code",
      "source": [
        "# Adding clusters to dataset\n",
        "data_scaled['clusters']=identified_clusters\n",
        "data_scaled"
      ],
      "metadata": {
        "id": "54xm5wI-YpVM"
      },
      "execution_count": null,
      "outputs": []
    },
    {
      "cell_type": "code",
      "source": [
        "# Plotting resulting clusters\n",
        "data_scaled['KMeans_labels']=k_means.labels_\n",
        "\n",
        "colors=['purple','red','blue','green']\n",
        "plt.figure(figsize=(10,10))\n",
        "plt.scatter(data_scaled['Murder'],data_scaled['clusters'],c=data_scaled['KMeans_labels'],cmap=matplotlib.colors.ListedColormap(colors),s=15)\n",
        "plt.title('K-Means Clustering',fontsize=20)\n",
        "plt.xlabel('Feature 1',fontsize=14)\n",
        "plt.ylabel('Feature 2',fontsize=14)\n",
        "plt.show()"
      ],
      "metadata": {
        "id": "barl9bMvYtgd"
      },
      "execution_count": null,
      "outputs": []
    },
    {
      "cell_type": "code",
      "source": [
        "# 2. Hierachial Clustering"
      ],
      "metadata": {
        "id": "CQWqRHwcYxmP"
      },
      "execution_count": null,
      "outputs": []
    },
    {
      "cell_type": "code",
      "source": [
        "from sklearn.cluster import AgglomerativeClustering\n",
        "model = AgglomerativeClustering(n_clusters=4, affinity='euclidean')\n",
        "model.fit(data_scaled)"
      ],
      "metadata": {
        "id": "rg1dggL7Y-9i"
      },
      "execution_count": null,
      "outputs": []
    },
    {
      "cell_type": "code",
      "source": [
        "# Plotting resulting clusters\n",
        "data_scaled['HR_labels']=model.labels_\n",
        "\n",
        "plt.figure(figsize=(10,10))\n",
        "plt.scatter(data_scaled['Murder'],data_scaled['clusters'],c=data_scaled['HR_labels'],cmap=matplotlib.colors.ListedColormap(colors),s=15)\n",
        "plt.title('Hierarchical Clustering',fontsize=20)\n",
        "plt.xlabel('Feature 1',fontsize=14)\n",
        "plt.ylabel('Feature 2',fontsize=14)\n",
        "plt.show()"
      ],
      "metadata": {
        "id": "gB05Kp97ZA2k"
      },
      "execution_count": null,
      "outputs": []
    },
    {
      "cell_type": "code",
      "source": [
        "# 3.DBSCAM CLUSTERING"
      ],
      "metadata": {
        "id": "xmso41jeZKLY"
      },
      "execution_count": null,
      "outputs": []
    },
    {
      "cell_type": "code",
      "source": [
        "from sklearn.cluster import DBSCAN\n",
        "dbscan=DBSCAN()\n",
        "dbscan.fit(data_scaled)"
      ],
      "metadata": {
        "id": "NwKgNunNZWaD"
      },
      "execution_count": null,
      "outputs": []
    },
    {
      "cell_type": "code",
      "source": [
        "# Plotting resulting clusters\n",
        "data_scaled['DBSCAN_labels']=dbscan.labels_ \n",
        "\n",
        "plt.figure(figsize=(10,10))\n",
        "plt.scatter(data_scaled['Murder'],data_scaled['clusters'],c=data_scaled['DBSCAN_labels'],cmap=matplotlib.colors.ListedColormap(colors),s=15)\n",
        "plt.title('DBSCAM CLUSTERING',fontsize=20)\n",
        "plt.xlabel('Feature 1',fontsize=14)\n",
        "plt.ylabel('Feature 2',fontsize=14)\n",
        "plt.show()"
      ],
      "metadata": {
        "id": "MJfTUBm4ZXqG"
      },
      "execution_count": null,
      "outputs": []
    }
  ]
}